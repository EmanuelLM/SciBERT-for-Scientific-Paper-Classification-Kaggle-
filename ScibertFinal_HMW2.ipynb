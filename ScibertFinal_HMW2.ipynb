{
  "nbformat": 4,
  "nbformat_minor": 0,
  "metadata": {
    "colab": {
      "provenance": []
    },
    "kernelspec": {
      "name": "python3",
      "display_name": "Python 3"
    },
    "language_info": {
      "name": "python"
    },
    "widgets": {
      "application/vnd.jupyter.widget-state+json": {
        "4bb64b3dfe3b4649a7617f588be8d669": {
          "model_module": "@jupyter-widgets/controls",
          "model_name": "HBoxModel",
          "state": {
            "_view_name": "HBoxView",
            "_dom_classes": [],
            "_model_name": "HBoxModel",
            "_view_module": "@jupyter-widgets/controls",
            "_model_module_version": "1.5.0",
            "_view_count": null,
            "_view_module_version": "1.5.0",
            "box_style": "",
            "layout": "IPY_MODEL_5ec6f35ee2174a6d9a1ff9ad78fb1cd7",
            "_model_module": "@jupyter-widgets/controls",
            "children": [
              "IPY_MODEL_6854162d4891441f920432f3361b7400",
              "IPY_MODEL_8f232ff058744cca802b7c62815890f2"
            ]
          },
          "model_module_version": "1.5.0"
        },
        "5ec6f35ee2174a6d9a1ff9ad78fb1cd7": {
          "model_module": "@jupyter-widgets/base",
          "model_name": "LayoutModel",
          "state": {
            "_view_name": "LayoutView",
            "grid_template_rows": null,
            "right": null,
            "justify_content": null,
            "_view_module": "@jupyter-widgets/base",
            "overflow": null,
            "_model_module_version": "1.2.0",
            "_view_count": null,
            "flex_flow": null,
            "width": null,
            "min_width": null,
            "border": null,
            "align_items": null,
            "bottom": null,
            "_model_module": "@jupyter-widgets/base",
            "top": null,
            "grid_column": null,
            "overflow_y": null,
            "overflow_x": null,
            "grid_auto_flow": null,
            "grid_area": null,
            "grid_template_columns": null,
            "flex": null,
            "_model_name": "LayoutModel",
            "justify_items": null,
            "grid_row": null,
            "max_height": null,
            "align_content": null,
            "visibility": null,
            "align_self": null,
            "height": null,
            "min_height": null,
            "padding": null,
            "grid_auto_rows": null,
            "grid_gap": null,
            "max_width": null,
            "order": null,
            "_view_module_version": "1.2.0",
            "grid_template_areas": null,
            "object_position": null,
            "object_fit": null,
            "grid_auto_columns": null,
            "margin": null,
            "display": null,
            "left": null
          },
          "model_module_version": "1.2.0"
        },
        "6854162d4891441f920432f3361b7400": {
          "model_module": "@jupyter-widgets/controls",
          "model_name": "FloatProgressModel",
          "state": {
            "_view_name": "ProgressView",
            "style": "IPY_MODEL_433ece2843284796a30914fd33d50269",
            "_dom_classes": [],
            "description": "Downloading: 100%",
            "_model_name": "FloatProgressModel",
            "bar_style": "success",
            "max": 385,
            "_view_module": "@jupyter-widgets/controls",
            "_model_module_version": "1.5.0",
            "value": 385,
            "_view_count": null,
            "_view_module_version": "1.5.0",
            "orientation": "horizontal",
            "min": 0,
            "description_tooltip": null,
            "_model_module": "@jupyter-widgets/controls",
            "layout": "IPY_MODEL_6c3c4d39675c4e4a924d2a5e6ff5650c"
          },
          "model_module_version": "1.5.0"
        },
        "8f232ff058744cca802b7c62815890f2": {
          "model_module": "@jupyter-widgets/controls",
          "model_name": "HTMLModel",
          "state": {
            "_view_name": "HTMLView",
            "style": "IPY_MODEL_6e39bbea02084b43b851d0151f4aed8d",
            "_dom_classes": [],
            "description": "",
            "_model_name": "HTMLModel",
            "placeholder": "​",
            "_view_module": "@jupyter-widgets/controls",
            "_model_module_version": "1.5.0",
            "value": " 385/385 [00:02&lt;00:00, 192B/s]",
            "_view_count": null,
            "_view_module_version": "1.5.0",
            "description_tooltip": null,
            "_model_module": "@jupyter-widgets/controls",
            "layout": "IPY_MODEL_dcff11f812874dcba2640ae2635cfe62"
          },
          "model_module_version": "1.5.0"
        },
        "433ece2843284796a30914fd33d50269": {
          "model_module": "@jupyter-widgets/controls",
          "model_name": "ProgressStyleModel",
          "state": {
            "_view_name": "StyleView",
            "_model_name": "ProgressStyleModel",
            "description_width": "initial",
            "_view_module": "@jupyter-widgets/base",
            "_model_module_version": "1.5.0",
            "_view_count": null,
            "_view_module_version": "1.2.0",
            "bar_color": null,
            "_model_module": "@jupyter-widgets/controls"
          },
          "model_module_version": "1.5.0"
        },
        "6c3c4d39675c4e4a924d2a5e6ff5650c": {
          "model_module": "@jupyter-widgets/base",
          "model_name": "LayoutModel",
          "state": {
            "_view_name": "LayoutView",
            "grid_template_rows": null,
            "right": null,
            "justify_content": null,
            "_view_module": "@jupyter-widgets/base",
            "overflow": null,
            "_model_module_version": "1.2.0",
            "_view_count": null,
            "flex_flow": null,
            "width": null,
            "min_width": null,
            "border": null,
            "align_items": null,
            "bottom": null,
            "_model_module": "@jupyter-widgets/base",
            "top": null,
            "grid_column": null,
            "overflow_y": null,
            "overflow_x": null,
            "grid_auto_flow": null,
            "grid_area": null,
            "grid_template_columns": null,
            "flex": null,
            "_model_name": "LayoutModel",
            "justify_items": null,
            "grid_row": null,
            "max_height": null,
            "align_content": null,
            "visibility": null,
            "align_self": null,
            "height": null,
            "min_height": null,
            "padding": null,
            "grid_auto_rows": null,
            "grid_gap": null,
            "max_width": null,
            "order": null,
            "_view_module_version": "1.2.0",
            "grid_template_areas": null,
            "object_position": null,
            "object_fit": null,
            "grid_auto_columns": null,
            "margin": null,
            "display": null,
            "left": null
          },
          "model_module_version": "1.2.0"
        },
        "6e39bbea02084b43b851d0151f4aed8d": {
          "model_module": "@jupyter-widgets/controls",
          "model_name": "DescriptionStyleModel",
          "state": {
            "_view_name": "StyleView",
            "_model_name": "DescriptionStyleModel",
            "description_width": "",
            "_view_module": "@jupyter-widgets/base",
            "_model_module_version": "1.5.0",
            "_view_count": null,
            "_view_module_version": "1.2.0",
            "_model_module": "@jupyter-widgets/controls"
          },
          "model_module_version": "1.5.0"
        },
        "dcff11f812874dcba2640ae2635cfe62": {
          "model_module": "@jupyter-widgets/base",
          "model_name": "LayoutModel",
          "state": {
            "_view_name": "LayoutView",
            "grid_template_rows": null,
            "right": null,
            "justify_content": null,
            "_view_module": "@jupyter-widgets/base",
            "overflow": null,
            "_model_module_version": "1.2.0",
            "_view_count": null,
            "flex_flow": null,
            "width": null,
            "min_width": null,
            "border": null,
            "align_items": null,
            "bottom": null,
            "_model_module": "@jupyter-widgets/base",
            "top": null,
            "grid_column": null,
            "overflow_y": null,
            "overflow_x": null,
            "grid_auto_flow": null,
            "grid_area": null,
            "grid_template_columns": null,
            "flex": null,
            "_model_name": "LayoutModel",
            "justify_items": null,
            "grid_row": null,
            "max_height": null,
            "align_content": null,
            "visibility": null,
            "align_self": null,
            "height": null,
            "min_height": null,
            "padding": null,
            "grid_auto_rows": null,
            "grid_gap": null,
            "max_width": null,
            "order": null,
            "_view_module_version": "1.2.0",
            "grid_template_areas": null,
            "object_position": null,
            "object_fit": null,
            "grid_auto_columns": null,
            "margin": null,
            "display": null,
            "left": null
          },
          "model_module_version": "1.2.0"
        },
        "ca1238c4ea8146e3a2ed9a08338fab5a": {
          "model_module": "@jupyter-widgets/controls",
          "model_name": "HBoxModel",
          "state": {
            "_view_name": "HBoxView",
            "_dom_classes": [],
            "_model_name": "HBoxModel",
            "_view_module": "@jupyter-widgets/controls",
            "_model_module_version": "1.5.0",
            "_view_count": null,
            "_view_module_version": "1.5.0",
            "box_style": "",
            "layout": "IPY_MODEL_4655df31aa0a45b3b402ea58312383b3",
            "_model_module": "@jupyter-widgets/controls",
            "children": [
              "IPY_MODEL_bbeeb60d124b40afbf41f58f99077c0f",
              "IPY_MODEL_c4ee0bb743a242d08067d707cac41e8b"
            ]
          },
          "model_module_version": "1.5.0"
        },
        "4655df31aa0a45b3b402ea58312383b3": {
          "model_module": "@jupyter-widgets/base",
          "model_name": "LayoutModel",
          "state": {
            "_view_name": "LayoutView",
            "grid_template_rows": null,
            "right": null,
            "justify_content": null,
            "_view_module": "@jupyter-widgets/base",
            "overflow": null,
            "_model_module_version": "1.2.0",
            "_view_count": null,
            "flex_flow": null,
            "width": null,
            "min_width": null,
            "border": null,
            "align_items": null,
            "bottom": null,
            "_model_module": "@jupyter-widgets/base",
            "top": null,
            "grid_column": null,
            "overflow_y": null,
            "overflow_x": null,
            "grid_auto_flow": null,
            "grid_area": null,
            "grid_template_columns": null,
            "flex": null,
            "_model_name": "LayoutModel",
            "justify_items": null,
            "grid_row": null,
            "max_height": null,
            "align_content": null,
            "visibility": null,
            "align_self": null,
            "height": null,
            "min_height": null,
            "padding": null,
            "grid_auto_rows": null,
            "grid_gap": null,
            "max_width": null,
            "order": null,
            "_view_module_version": "1.2.0",
            "grid_template_areas": null,
            "object_position": null,
            "object_fit": null,
            "grid_auto_columns": null,
            "margin": null,
            "display": null,
            "left": null
          },
          "model_module_version": "1.2.0"
        },
        "bbeeb60d124b40afbf41f58f99077c0f": {
          "model_module": "@jupyter-widgets/controls",
          "model_name": "FloatProgressModel",
          "state": {
            "_view_name": "ProgressView",
            "style": "IPY_MODEL_2bddb3ab2db24e8e84c5cffc4bd30a7c",
            "_dom_classes": [],
            "description": "Downloading: 100%",
            "_model_name": "FloatProgressModel",
            "bar_style": "success",
            "max": 227845,
            "_view_module": "@jupyter-widgets/controls",
            "_model_module_version": "1.5.0",
            "value": 227845,
            "_view_count": null,
            "_view_module_version": "1.5.0",
            "orientation": "horizontal",
            "min": 0,
            "description_tooltip": null,
            "_model_module": "@jupyter-widgets/controls",
            "layout": "IPY_MODEL_d33e895df064411c82cb4420fda86456"
          },
          "model_module_version": "1.5.0"
        },
        "c4ee0bb743a242d08067d707cac41e8b": {
          "model_module": "@jupyter-widgets/controls",
          "model_name": "HTMLModel",
          "state": {
            "_view_name": "HTMLView",
            "style": "IPY_MODEL_3a00a024b38c4bd08cf54716e85c6364",
            "_dom_classes": [],
            "description": "",
            "_model_name": "HTMLModel",
            "placeholder": "​",
            "_view_module": "@jupyter-widgets/controls",
            "_model_module_version": "1.5.0",
            "value": " 228k/228k [00:01&lt;00:00, 160kB/s]",
            "_view_count": null,
            "_view_module_version": "1.5.0",
            "description_tooltip": null,
            "_model_module": "@jupyter-widgets/controls",
            "layout": "IPY_MODEL_a268b76c74394ba6a5c0766c6903a60e"
          },
          "model_module_version": "1.5.0"
        },
        "2bddb3ab2db24e8e84c5cffc4bd30a7c": {
          "model_module": "@jupyter-widgets/controls",
          "model_name": "ProgressStyleModel",
          "state": {
            "_view_name": "StyleView",
            "_model_name": "ProgressStyleModel",
            "description_width": "initial",
            "_view_module": "@jupyter-widgets/base",
            "_model_module_version": "1.5.0",
            "_view_count": null,
            "_view_module_version": "1.2.0",
            "bar_color": null,
            "_model_module": "@jupyter-widgets/controls"
          },
          "model_module_version": "1.5.0"
        },
        "d33e895df064411c82cb4420fda86456": {
          "model_module": "@jupyter-widgets/base",
          "model_name": "LayoutModel",
          "state": {
            "_view_name": "LayoutView",
            "grid_template_rows": null,
            "right": null,
            "justify_content": null,
            "_view_module": "@jupyter-widgets/base",
            "overflow": null,
            "_model_module_version": "1.2.0",
            "_view_count": null,
            "flex_flow": null,
            "width": null,
            "min_width": null,
            "border": null,
            "align_items": null,
            "bottom": null,
            "_model_module": "@jupyter-widgets/base",
            "top": null,
            "grid_column": null,
            "overflow_y": null,
            "overflow_x": null,
            "grid_auto_flow": null,
            "grid_area": null,
            "grid_template_columns": null,
            "flex": null,
            "_model_name": "LayoutModel",
            "justify_items": null,
            "grid_row": null,
            "max_height": null,
            "align_content": null,
            "visibility": null,
            "align_self": null,
            "height": null,
            "min_height": null,
            "padding": null,
            "grid_auto_rows": null,
            "grid_gap": null,
            "max_width": null,
            "order": null,
            "_view_module_version": "1.2.0",
            "grid_template_areas": null,
            "object_position": null,
            "object_fit": null,
            "grid_auto_columns": null,
            "margin": null,
            "display": null,
            "left": null
          },
          "model_module_version": "1.2.0"
        },
        "3a00a024b38c4bd08cf54716e85c6364": {
          "model_module": "@jupyter-widgets/controls",
          "model_name": "DescriptionStyleModel",
          "state": {
            "_view_name": "StyleView",
            "_model_name": "DescriptionStyleModel",
            "description_width": "",
            "_view_module": "@jupyter-widgets/base",
            "_model_module_version": "1.5.0",
            "_view_count": null,
            "_view_module_version": "1.2.0",
            "_model_module": "@jupyter-widgets/controls"
          },
          "model_module_version": "1.5.0"
        },
        "a268b76c74394ba6a5c0766c6903a60e": {
          "model_module": "@jupyter-widgets/base",
          "model_name": "LayoutModel",
          "state": {
            "_view_name": "LayoutView",
            "grid_template_rows": null,
            "right": null,
            "justify_content": null,
            "_view_module": "@jupyter-widgets/base",
            "overflow": null,
            "_model_module_version": "1.2.0",
            "_view_count": null,
            "flex_flow": null,
            "width": null,
            "min_width": null,
            "border": null,
            "align_items": null,
            "bottom": null,
            "_model_module": "@jupyter-widgets/base",
            "top": null,
            "grid_column": null,
            "overflow_y": null,
            "overflow_x": null,
            "grid_auto_flow": null,
            "grid_area": null,
            "grid_template_columns": null,
            "flex": null,
            "_model_name": "LayoutModel",
            "justify_items": null,
            "grid_row": null,
            "max_height": null,
            "align_content": null,
            "visibility": null,
            "align_self": null,
            "height": null,
            "min_height": null,
            "padding": null,
            "grid_auto_rows": null,
            "grid_gap": null,
            "max_width": null,
            "order": null,
            "_view_module_version": "1.2.0",
            "grid_template_areas": null,
            "object_position": null,
            "object_fit": null,
            "grid_auto_columns": null,
            "margin": null,
            "display": null,
            "left": null
          },
          "model_module_version": "1.2.0"
        },
        "6be88aa9f3b742c5b07f4babe9aa23c8": {
          "model_module": "@jupyter-widgets/controls",
          "model_name": "HBoxModel",
          "state": {
            "_view_name": "HBoxView",
            "_dom_classes": [],
            "_model_name": "HBoxModel",
            "_view_module": "@jupyter-widgets/controls",
            "_model_module_version": "1.5.0",
            "_view_count": null,
            "_view_module_version": "1.5.0",
            "box_style": "",
            "layout": "IPY_MODEL_aba1b5588d244e90b7bd1012e4427e5f",
            "_model_module": "@jupyter-widgets/controls",
            "children": [
              "IPY_MODEL_e8115e9579f34ff29f1f2775f8c7d456",
              "IPY_MODEL_1f643dc61aa9418a8692bb3cdbe501a4"
            ]
          },
          "model_module_version": "1.5.0"
        },
        "aba1b5588d244e90b7bd1012e4427e5f": {
          "model_module": "@jupyter-widgets/base",
          "model_name": "LayoutModel",
          "state": {
            "_view_name": "LayoutView",
            "grid_template_rows": null,
            "right": null,
            "justify_content": null,
            "_view_module": "@jupyter-widgets/base",
            "overflow": null,
            "_model_module_version": "1.2.0",
            "_view_count": null,
            "flex_flow": null,
            "width": null,
            "min_width": null,
            "border": null,
            "align_items": null,
            "bottom": null,
            "_model_module": "@jupyter-widgets/base",
            "top": null,
            "grid_column": null,
            "overflow_y": null,
            "overflow_x": null,
            "grid_auto_flow": null,
            "grid_area": null,
            "grid_template_columns": null,
            "flex": null,
            "_model_name": "LayoutModel",
            "justify_items": null,
            "grid_row": null,
            "max_height": null,
            "align_content": null,
            "visibility": null,
            "align_self": null,
            "height": null,
            "min_height": null,
            "padding": null,
            "grid_auto_rows": null,
            "grid_gap": null,
            "max_width": null,
            "order": null,
            "_view_module_version": "1.2.0",
            "grid_template_areas": null,
            "object_position": null,
            "object_fit": null,
            "grid_auto_columns": null,
            "margin": null,
            "display": null,
            "left": null
          },
          "model_module_version": "1.2.0"
        },
        "e8115e9579f34ff29f1f2775f8c7d456": {
          "model_module": "@jupyter-widgets/controls",
          "model_name": "FloatProgressModel",
          "state": {
            "_view_name": "ProgressView",
            "style": "IPY_MODEL_2f1f4d7a9bfb4a1bb4fb190201179d67",
            "_dom_classes": [],
            "description": "Downloading: 100%",
            "_model_name": "FloatProgressModel",
            "bar_style": "success",
            "max": 442221694,
            "_view_module": "@jupyter-widgets/controls",
            "_model_module_version": "1.5.0",
            "value": 442221694,
            "_view_count": null,
            "_view_module_version": "1.5.0",
            "orientation": "horizontal",
            "min": 0,
            "description_tooltip": null,
            "_model_module": "@jupyter-widgets/controls",
            "layout": "IPY_MODEL_5bbb12fb8a1c4d9fb17840c824e1da67"
          },
          "model_module_version": "1.5.0"
        },
        "1f643dc61aa9418a8692bb3cdbe501a4": {
          "model_module": "@jupyter-widgets/controls",
          "model_name": "HTMLModel",
          "state": {
            "_view_name": "HTMLView",
            "style": "IPY_MODEL_2b271ff6d7e3495cb5adacfad93dbd38",
            "_dom_classes": [],
            "description": "",
            "_model_name": "HTMLModel",
            "placeholder": "​",
            "_view_module": "@jupyter-widgets/controls",
            "_model_module_version": "1.5.0",
            "value": " 442M/442M [00:08&lt;00:00, 53.9MB/s]",
            "_view_count": null,
            "_view_module_version": "1.5.0",
            "description_tooltip": null,
            "_model_module": "@jupyter-widgets/controls",
            "layout": "IPY_MODEL_901be4b996744383b871353135a9a178"
          },
          "model_module_version": "1.5.0"
        },
        "2f1f4d7a9bfb4a1bb4fb190201179d67": {
          "model_module": "@jupyter-widgets/controls",
          "model_name": "ProgressStyleModel",
          "state": {
            "_view_name": "StyleView",
            "_model_name": "ProgressStyleModel",
            "description_width": "initial",
            "_view_module": "@jupyter-widgets/base",
            "_model_module_version": "1.5.0",
            "_view_count": null,
            "_view_module_version": "1.2.0",
            "bar_color": null,
            "_model_module": "@jupyter-widgets/controls"
          },
          "model_module_version": "1.5.0"
        },
        "5bbb12fb8a1c4d9fb17840c824e1da67": {
          "model_module": "@jupyter-widgets/base",
          "model_name": "LayoutModel",
          "state": {
            "_view_name": "LayoutView",
            "grid_template_rows": null,
            "right": null,
            "justify_content": null,
            "_view_module": "@jupyter-widgets/base",
            "overflow": null,
            "_model_module_version": "1.2.0",
            "_view_count": null,
            "flex_flow": null,
            "width": null,
            "min_width": null,
            "border": null,
            "align_items": null,
            "bottom": null,
            "_model_module": "@jupyter-widgets/base",
            "top": null,
            "grid_column": null,
            "overflow_y": null,
            "overflow_x": null,
            "grid_auto_flow": null,
            "grid_area": null,
            "grid_template_columns": null,
            "flex": null,
            "_model_name": "LayoutModel",
            "justify_items": null,
            "grid_row": null,
            "max_height": null,
            "align_content": null,
            "visibility": null,
            "align_self": null,
            "height": null,
            "min_height": null,
            "padding": null,
            "grid_auto_rows": null,
            "grid_gap": null,
            "max_width": null,
            "order": null,
            "_view_module_version": "1.2.0",
            "grid_template_areas": null,
            "object_position": null,
            "object_fit": null,
            "grid_auto_columns": null,
            "margin": null,
            "display": null,
            "left": null
          },
          "model_module_version": "1.2.0"
        },
        "2b271ff6d7e3495cb5adacfad93dbd38": {
          "model_module": "@jupyter-widgets/controls",
          "model_name": "DescriptionStyleModel",
          "state": {
            "_view_name": "StyleView",
            "_model_name": "DescriptionStyleModel",
            "description_width": "",
            "_view_module": "@jupyter-widgets/base",
            "_model_module_version": "1.5.0",
            "_view_count": null,
            "_view_module_version": "1.2.0",
            "_model_module": "@jupyter-widgets/controls"
          },
          "model_module_version": "1.5.0"
        },
        "901be4b996744383b871353135a9a178": {
          "model_module": "@jupyter-widgets/base",
          "model_name": "LayoutModel",
          "state": {
            "_view_name": "LayoutView",
            "grid_template_rows": null,
            "right": null,
            "justify_content": null,
            "_view_module": "@jupyter-widgets/base",
            "overflow": null,
            "_model_module_version": "1.2.0",
            "_view_count": null,
            "flex_flow": null,
            "width": null,
            "min_width": null,
            "border": null,
            "align_items": null,
            "bottom": null,
            "_model_module": "@jupyter-widgets/base",
            "top": null,
            "grid_column": null,
            "overflow_y": null,
            "overflow_x": null,
            "grid_auto_flow": null,
            "grid_area": null,
            "grid_template_columns": null,
            "flex": null,
            "_model_name": "LayoutModel",
            "justify_items": null,
            "grid_row": null,
            "max_height": null,
            "align_content": null,
            "visibility": null,
            "align_self": null,
            "height": null,
            "min_height": null,
            "padding": null,
            "grid_auto_rows": null,
            "grid_gap": null,
            "max_width": null,
            "order": null,
            "_view_module_version": "1.2.0",
            "grid_template_areas": null,
            "object_position": null,
            "object_fit": null,
            "grid_auto_columns": null,
            "margin": null,
            "display": null,
            "left": null
          },
          "model_module_version": "1.2.0"
        },
        "2e8a1dd705094877a0f87e1972833616": {
          "model_module": "@jupyter-widgets/controls",
          "model_name": "HBoxModel",
          "state": {
            "_view_name": "HBoxView",
            "_dom_classes": [],
            "_model_name": "HBoxModel",
            "_view_module": "@jupyter-widgets/controls",
            "_model_module_version": "1.5.0",
            "_view_count": null,
            "_view_module_version": "1.5.0",
            "box_style": "",
            "layout": "IPY_MODEL_4aa153b52f764717a34f2a5e3651445c",
            "_model_module": "@jupyter-widgets/controls",
            "children": [
              "IPY_MODEL_aece04912e1c40f29686309e0365ed83",
              "IPY_MODEL_a0ebaa9401d642459e6cd4e304c58175"
            ]
          },
          "model_module_version": "1.5.0"
        },
        "4aa153b52f764717a34f2a5e3651445c": {
          "model_module": "@jupyter-widgets/base",
          "model_name": "LayoutModel",
          "state": {
            "_view_name": "LayoutView",
            "grid_template_rows": null,
            "right": null,
            "justify_content": null,
            "_view_module": "@jupyter-widgets/base",
            "overflow": null,
            "_model_module_version": "1.2.0",
            "_view_count": null,
            "flex_flow": null,
            "width": null,
            "min_width": null,
            "border": null,
            "align_items": null,
            "bottom": null,
            "_model_module": "@jupyter-widgets/base",
            "top": null,
            "grid_column": null,
            "overflow_y": null,
            "overflow_x": null,
            "grid_auto_flow": null,
            "grid_area": null,
            "grid_template_columns": null,
            "flex": null,
            "_model_name": "LayoutModel",
            "justify_items": null,
            "grid_row": null,
            "max_height": null,
            "align_content": null,
            "visibility": null,
            "align_self": null,
            "height": null,
            "min_height": null,
            "padding": null,
            "grid_auto_rows": null,
            "grid_gap": null,
            "max_width": null,
            "order": null,
            "_view_module_version": "1.2.0",
            "grid_template_areas": null,
            "object_position": null,
            "object_fit": null,
            "grid_auto_columns": null,
            "margin": null,
            "display": null,
            "left": null
          },
          "model_module_version": "1.2.0"
        },
        "aece04912e1c40f29686309e0365ed83": {
          "model_module": "@jupyter-widgets/controls",
          "model_name": "FloatProgressModel",
          "state": {
            "_view_name": "ProgressView",
            "style": "IPY_MODEL_06ec30d990dc48938bd4a40e5e42a12e",
            "_dom_classes": [],
            "description": "Downloading: 100%",
            "_model_name": "FloatProgressModel",
            "bar_style": "success",
            "max": 481,
            "_view_module": "@jupyter-widgets/controls",
            "_model_module_version": "1.5.0",
            "value": 481,
            "_view_count": null,
            "_view_module_version": "1.5.0",
            "orientation": "horizontal",
            "min": 0,
            "description_tooltip": null,
            "_model_module": "@jupyter-widgets/controls",
            "layout": "IPY_MODEL_be3d8a6ceb654edd83b0e8d36b4513d6"
          },
          "model_module_version": "1.5.0"
        },
        "a0ebaa9401d642459e6cd4e304c58175": {
          "model_module": "@jupyter-widgets/controls",
          "model_name": "HTMLModel",
          "state": {
            "_view_name": "HTMLView",
            "style": "IPY_MODEL_688ccb6153474841aa31977fcf3077e5",
            "_dom_classes": [],
            "description": "",
            "_model_name": "HTMLModel",
            "placeholder": "​",
            "_view_module": "@jupyter-widgets/controls",
            "_model_module_version": "1.5.0",
            "value": " 481/481 [02:10&lt;00:00, 3.70B/s]",
            "_view_count": null,
            "_view_module_version": "1.5.0",
            "description_tooltip": null,
            "_model_module": "@jupyter-widgets/controls",
            "layout": "IPY_MODEL_786da13e0ea14576b31ec09008518dac"
          },
          "model_module_version": "1.5.0"
        },
        "06ec30d990dc48938bd4a40e5e42a12e": {
          "model_module": "@jupyter-widgets/controls",
          "model_name": "ProgressStyleModel",
          "state": {
            "_view_name": "StyleView",
            "_model_name": "ProgressStyleModel",
            "description_width": "initial",
            "_view_module": "@jupyter-widgets/base",
            "_model_module_version": "1.5.0",
            "_view_count": null,
            "_view_module_version": "1.2.0",
            "bar_color": null,
            "_model_module": "@jupyter-widgets/controls"
          },
          "model_module_version": "1.5.0"
        },
        "be3d8a6ceb654edd83b0e8d36b4513d6": {
          "model_module": "@jupyter-widgets/base",
          "model_name": "LayoutModel",
          "state": {
            "_view_name": "LayoutView",
            "grid_template_rows": null,
            "right": null,
            "justify_content": null,
            "_view_module": "@jupyter-widgets/base",
            "overflow": null,
            "_model_module_version": "1.2.0",
            "_view_count": null,
            "flex_flow": null,
            "width": null,
            "min_width": null,
            "border": null,
            "align_items": null,
            "bottom": null,
            "_model_module": "@jupyter-widgets/base",
            "top": null,
            "grid_column": null,
            "overflow_y": null,
            "overflow_x": null,
            "grid_auto_flow": null,
            "grid_area": null,
            "grid_template_columns": null,
            "flex": null,
            "_model_name": "LayoutModel",
            "justify_items": null,
            "grid_row": null,
            "max_height": null,
            "align_content": null,
            "visibility": null,
            "align_self": null,
            "height": null,
            "min_height": null,
            "padding": null,
            "grid_auto_rows": null,
            "grid_gap": null,
            "max_width": null,
            "order": null,
            "_view_module_version": "1.2.0",
            "grid_template_areas": null,
            "object_position": null,
            "object_fit": null,
            "grid_auto_columns": null,
            "margin": null,
            "display": null,
            "left": null
          },
          "model_module_version": "1.2.0"
        },
        "688ccb6153474841aa31977fcf3077e5": {
          "model_module": "@jupyter-widgets/controls",
          "model_name": "DescriptionStyleModel",
          "state": {
            "_view_name": "StyleView",
            "_model_name": "DescriptionStyleModel",
            "description_width": "",
            "_view_module": "@jupyter-widgets/base",
            "_model_module_version": "1.5.0",
            "_view_count": null,
            "_view_module_version": "1.2.0",
            "_model_module": "@jupyter-widgets/controls"
          },
          "model_module_version": "1.5.0"
        },
        "786da13e0ea14576b31ec09008518dac": {
          "model_module": "@jupyter-widgets/base",
          "model_name": "LayoutModel",
          "state": {
            "_view_name": "LayoutView",
            "grid_template_rows": null,
            "right": null,
            "justify_content": null,
            "_view_module": "@jupyter-widgets/base",
            "overflow": null,
            "_model_module_version": "1.2.0",
            "_view_count": null,
            "flex_flow": null,
            "width": null,
            "min_width": null,
            "border": null,
            "align_items": null,
            "bottom": null,
            "_model_module": "@jupyter-widgets/base",
            "top": null,
            "grid_column": null,
            "overflow_y": null,
            "overflow_x": null,
            "grid_auto_flow": null,
            "grid_area": null,
            "grid_template_columns": null,
            "flex": null,
            "_model_name": "LayoutModel",
            "justify_items": null,
            "grid_row": null,
            "max_height": null,
            "align_content": null,
            "visibility": null,
            "align_self": null,
            "height": null,
            "min_height": null,
            "padding": null,
            "grid_auto_rows": null,
            "grid_gap": null,
            "max_width": null,
            "order": null,
            "_view_module_version": "1.2.0",
            "grid_template_areas": null,
            "object_position": null,
            "object_fit": null,
            "grid_auto_columns": null,
            "margin": null,
            "display": null,
            "left": null
          },
          "model_module_version": "1.2.0"
        },
        "04a7a03a2e0e49aaa152407b5057c4e0": {
          "model_module": "@jupyter-widgets/controls",
          "model_name": "HBoxModel",
          "state": {
            "_view_name": "HBoxView",
            "_dom_classes": [],
            "_model_name": "HBoxModel",
            "_view_module": "@jupyter-widgets/controls",
            "_model_module_version": "1.5.0",
            "_view_count": null,
            "_view_module_version": "1.5.0",
            "box_style": "",
            "layout": "IPY_MODEL_aca79c59ccea49aaa74813b652f61e6a",
            "_model_module": "@jupyter-widgets/controls",
            "children": [
              "IPY_MODEL_422caa78cf40462a80c11f88024e3bad",
              "IPY_MODEL_14a843b5aaec4dd2b36d47d709008dd8"
            ]
          },
          "model_module_version": "1.5.0"
        },
        "aca79c59ccea49aaa74813b652f61e6a": {
          "model_module": "@jupyter-widgets/base",
          "model_name": "LayoutModel",
          "state": {
            "_view_name": "LayoutView",
            "grid_template_rows": null,
            "right": null,
            "justify_content": null,
            "_view_module": "@jupyter-widgets/base",
            "overflow": null,
            "_model_module_version": "1.2.0",
            "_view_count": null,
            "flex_flow": null,
            "width": null,
            "min_width": null,
            "border": null,
            "align_items": null,
            "bottom": null,
            "_model_module": "@jupyter-widgets/base",
            "top": null,
            "grid_column": null,
            "overflow_y": null,
            "overflow_x": null,
            "grid_auto_flow": null,
            "grid_area": null,
            "grid_template_columns": null,
            "flex": null,
            "_model_name": "LayoutModel",
            "justify_items": null,
            "grid_row": null,
            "max_height": null,
            "align_content": null,
            "visibility": null,
            "align_self": null,
            "height": null,
            "min_height": null,
            "padding": null,
            "grid_auto_rows": null,
            "grid_gap": null,
            "max_width": null,
            "order": null,
            "_view_module_version": "1.2.0",
            "grid_template_areas": null,
            "object_position": null,
            "object_fit": null,
            "grid_auto_columns": null,
            "margin": null,
            "display": null,
            "left": null
          },
          "model_module_version": "1.2.0"
        },
        "422caa78cf40462a80c11f88024e3bad": {
          "model_module": "@jupyter-widgets/controls",
          "model_name": "FloatProgressModel",
          "state": {
            "_view_name": "ProgressView",
            "style": "IPY_MODEL_2ab7d8e98c924af7bf1a09b95397afad",
            "_dom_classes": [],
            "description": "Downloading: 100%",
            "_model_name": "FloatProgressModel",
            "bar_style": "success",
            "max": 501200538,
            "_view_module": "@jupyter-widgets/controls",
            "_model_module_version": "1.5.0",
            "value": 501200538,
            "_view_count": null,
            "_view_module_version": "1.5.0",
            "orientation": "horizontal",
            "min": 0,
            "description_tooltip": null,
            "_model_module": "@jupyter-widgets/controls",
            "layout": "IPY_MODEL_e1be6d13689b4dc08866b11e68164a30"
          },
          "model_module_version": "1.5.0"
        },
        "14a843b5aaec4dd2b36d47d709008dd8": {
          "model_module": "@jupyter-widgets/controls",
          "model_name": "HTMLModel",
          "state": {
            "_view_name": "HTMLView",
            "style": "IPY_MODEL_6a1d82be61604006b7823d710bb37fdb",
            "_dom_classes": [],
            "description": "",
            "_model_name": "HTMLModel",
            "placeholder": "​",
            "_view_module": "@jupyter-widgets/controls",
            "_model_module_version": "1.5.0",
            "value": " 501M/501M [02:09&lt;00:00, 3.87MB/s]",
            "_view_count": null,
            "_view_module_version": "1.5.0",
            "description_tooltip": null,
            "_model_module": "@jupyter-widgets/controls",
            "layout": "IPY_MODEL_5fbdf5fce6404443aede7e59d7ccafb1"
          },
          "model_module_version": "1.5.0"
        },
        "2ab7d8e98c924af7bf1a09b95397afad": {
          "model_module": "@jupyter-widgets/controls",
          "model_name": "ProgressStyleModel",
          "state": {
            "_view_name": "StyleView",
            "_model_name": "ProgressStyleModel",
            "description_width": "initial",
            "_view_module": "@jupyter-widgets/base",
            "_model_module_version": "1.5.0",
            "_view_count": null,
            "_view_module_version": "1.2.0",
            "bar_color": null,
            "_model_module": "@jupyter-widgets/controls"
          },
          "model_module_version": "1.5.0"
        },
        "e1be6d13689b4dc08866b11e68164a30": {
          "model_module": "@jupyter-widgets/base",
          "model_name": "LayoutModel",
          "state": {
            "_view_name": "LayoutView",
            "grid_template_rows": null,
            "right": null,
            "justify_content": null,
            "_view_module": "@jupyter-widgets/base",
            "overflow": null,
            "_model_module_version": "1.2.0",
            "_view_count": null,
            "flex_flow": null,
            "width": null,
            "min_width": null,
            "border": null,
            "align_items": null,
            "bottom": null,
            "_model_module": "@jupyter-widgets/base",
            "top": null,
            "grid_column": null,
            "overflow_y": null,
            "overflow_x": null,
            "grid_auto_flow": null,
            "grid_area": null,
            "grid_template_columns": null,
            "flex": null,
            "_model_name": "LayoutModel",
            "justify_items": null,
            "grid_row": null,
            "max_height": null,
            "align_content": null,
            "visibility": null,
            "align_self": null,
            "height": null,
            "min_height": null,
            "padding": null,
            "grid_auto_rows": null,
            "grid_gap": null,
            "max_width": null,
            "order": null,
            "_view_module_version": "1.2.0",
            "grid_template_areas": null,
            "object_position": null,
            "object_fit": null,
            "grid_auto_columns": null,
            "margin": null,
            "display": null,
            "left": null
          },
          "model_module_version": "1.2.0"
        },
        "6a1d82be61604006b7823d710bb37fdb": {
          "model_module": "@jupyter-widgets/controls",
          "model_name": "DescriptionStyleModel",
          "state": {
            "_view_name": "StyleView",
            "_model_name": "DescriptionStyleModel",
            "description_width": "",
            "_view_module": "@jupyter-widgets/base",
            "_model_module_version": "1.5.0",
            "_view_count": null,
            "_view_module_version": "1.2.0",
            "_model_module": "@jupyter-widgets/controls"
          },
          "model_module_version": "1.5.0"
        },
        "5fbdf5fce6404443aede7e59d7ccafb1": {
          "model_module": "@jupyter-widgets/base",
          "model_name": "LayoutModel",
          "state": {
            "_view_name": "LayoutView",
            "grid_template_rows": null,
            "right": null,
            "justify_content": null,
            "_view_module": "@jupyter-widgets/base",
            "overflow": null,
            "_model_module_version": "1.2.0",
            "_view_count": null,
            "flex_flow": null,
            "width": null,
            "min_width": null,
            "border": null,
            "align_items": null,
            "bottom": null,
            "_model_module": "@jupyter-widgets/base",
            "top": null,
            "grid_column": null,
            "overflow_y": null,
            "overflow_x": null,
            "grid_auto_flow": null,
            "grid_area": null,
            "grid_template_columns": null,
            "flex": null,
            "_model_name": "LayoutModel",
            "justify_items": null,
            "grid_row": null,
            "max_height": null,
            "align_content": null,
            "visibility": null,
            "align_self": null,
            "height": null,
            "min_height": null,
            "padding": null,
            "grid_auto_rows": null,
            "grid_gap": null,
            "max_width": null,
            "order": null,
            "_view_module_version": "1.2.0",
            "grid_template_areas": null,
            "object_position": null,
            "object_fit": null,
            "grid_auto_columns": null,
            "margin": null,
            "display": null,
            "left": null
          },
          "model_module_version": "1.2.0"
        }
      }
    },
    "accelerator": "GPU"
  },
  "cells": [
    {
      "cell_type": "code",
      "metadata": {
        "colab": {
          "base_uri": "https://localhost:8080/"
        },
        "id": "eREq4MYOovOS",
        "outputId": "cd5fb68f-c306-4897-9f63-2de6614be165"
      },
      "source": [
        "! pip install transformers\n",
        "! pip install torchtext==0.6.0"
      ],
      "execution_count": null,
      "outputs": [
        {
          "output_type": "stream",
          "text": [
            "Collecting transformers\n",
            "\u001b[?25l  Downloading https://files.pythonhosted.org/packages/ed/d5/f4157a376b8a79489a76ce6cfe147f4f3be1e029b7144fa7b8432e8acb26/transformers-4.4.2-py3-none-any.whl (2.0MB)\n",
            "\u001b[K     |████████████████████████████████| 2.0MB 11.8MB/s \n",
            "\u001b[?25hRequirement already satisfied: numpy>=1.17 in /usr/local/lib/python3.7/dist-packages (from transformers) (1.19.5)\n",
            "Requirement already satisfied: tqdm>=4.27 in /usr/local/lib/python3.7/dist-packages (from transformers) (4.41.1)\n",
            "Requirement already satisfied: importlib-metadata; python_version < \"3.8\" in /usr/local/lib/python3.7/dist-packages (from transformers) (3.8.1)\n",
            "Requirement already satisfied: requests in /usr/local/lib/python3.7/dist-packages (from transformers) (2.23.0)\n",
            "Requirement already satisfied: filelock in /usr/local/lib/python3.7/dist-packages (from transformers) (3.0.12)\n",
            "Requirement already satisfied: packaging in /usr/local/lib/python3.7/dist-packages (from transformers) (20.9)\n",
            "Collecting sacremoses\n",
            "\u001b[?25l  Downloading https://files.pythonhosted.org/packages/7d/34/09d19aff26edcc8eb2a01bed8e98f13a1537005d31e95233fd48216eed10/sacremoses-0.0.43.tar.gz (883kB)\n",
            "\u001b[K     |████████████████████████████████| 890kB 55.0MB/s \n",
            "\u001b[?25hCollecting tokenizers<0.11,>=0.10.1\n",
            "\u001b[?25l  Downloading https://files.pythonhosted.org/packages/71/23/2ddc317b2121117bf34dd00f5b0de194158f2a44ee2bf5e47c7166878a97/tokenizers-0.10.1-cp37-cp37m-manylinux2010_x86_64.whl (3.2MB)\n",
            "\u001b[K     |████████████████████████████████| 3.2MB 49.6MB/s \n",
            "\u001b[?25hRequirement already satisfied: regex!=2019.12.17 in /usr/local/lib/python3.7/dist-packages (from transformers) (2019.12.20)\n",
            "Requirement already satisfied: zipp>=0.5 in /usr/local/lib/python3.7/dist-packages (from importlib-metadata; python_version < \"3.8\"->transformers) (3.4.1)\n",
            "Requirement already satisfied: typing-extensions>=3.6.4; python_version < \"3.8\" in /usr/local/lib/python3.7/dist-packages (from importlib-metadata; python_version < \"3.8\"->transformers) (3.7.4.3)\n",
            "Requirement already satisfied: chardet<4,>=3.0.2 in /usr/local/lib/python3.7/dist-packages (from requests->transformers) (3.0.4)\n",
            "Requirement already satisfied: idna<3,>=2.5 in /usr/local/lib/python3.7/dist-packages (from requests->transformers) (2.10)\n",
            "Requirement already satisfied: urllib3!=1.25.0,!=1.25.1,<1.26,>=1.21.1 in /usr/local/lib/python3.7/dist-packages (from requests->transformers) (1.24.3)\n",
            "Requirement already satisfied: certifi>=2017.4.17 in /usr/local/lib/python3.7/dist-packages (from requests->transformers) (2020.12.5)\n",
            "Requirement already satisfied: pyparsing>=2.0.2 in /usr/local/lib/python3.7/dist-packages (from packaging->transformers) (2.4.7)\n",
            "Requirement already satisfied: six in /usr/local/lib/python3.7/dist-packages (from sacremoses->transformers) (1.15.0)\n",
            "Requirement already satisfied: click in /usr/local/lib/python3.7/dist-packages (from sacremoses->transformers) (7.1.2)\n",
            "Requirement already satisfied: joblib in /usr/local/lib/python3.7/dist-packages (from sacremoses->transformers) (1.0.1)\n",
            "Building wheels for collected packages: sacremoses\n",
            "  Building wheel for sacremoses (setup.py) ... \u001b[?25l\u001b[?25hdone\n",
            "  Created wheel for sacremoses: filename=sacremoses-0.0.43-cp37-none-any.whl size=893262 sha256=b1cb8d113d08ea1b228802c32f1535cef2bfba057ee94c29c9538ba5f419458c\n",
            "  Stored in directory: /root/.cache/pip/wheels/29/3c/fd/7ce5c3f0666dab31a50123635e6fb5e19ceb42ce38d4e58f45\n",
            "Successfully built sacremoses\n",
            "Installing collected packages: sacremoses, tokenizers, transformers\n",
            "Successfully installed sacremoses-0.0.43 tokenizers-0.10.1 transformers-4.4.2\n",
            "Collecting torchtext==0.6.0\n",
            "\u001b[?25l  Downloading https://files.pythonhosted.org/packages/f2/17/e7c588245aece7aa93f360894179374830daf60d7ed0bbb59332de3b3b61/torchtext-0.6.0-py3-none-any.whl (64kB)\n",
            "\u001b[K     |████████████████████████████████| 71kB 7.0MB/s \n",
            "\u001b[?25hRequirement already satisfied: requests in /usr/local/lib/python3.7/dist-packages (from torchtext==0.6.0) (2.23.0)\n",
            "Requirement already satisfied: torch in /usr/local/lib/python3.7/dist-packages (from torchtext==0.6.0) (1.8.1+cu101)\n",
            "Requirement already satisfied: tqdm in /usr/local/lib/python3.7/dist-packages (from torchtext==0.6.0) (4.41.1)\n",
            "Collecting sentencepiece\n",
            "\u001b[?25l  Downloading https://files.pythonhosted.org/packages/f5/99/e0808cb947ba10f575839c43e8fafc9cc44e4a7a2c8f79c60db48220a577/sentencepiece-0.1.95-cp37-cp37m-manylinux2014_x86_64.whl (1.2MB)\n",
            "\u001b[K     |████████████████████████████████| 1.2MB 17.3MB/s \n",
            "\u001b[?25hRequirement already satisfied: numpy in /usr/local/lib/python3.7/dist-packages (from torchtext==0.6.0) (1.19.5)\n",
            "Requirement already satisfied: six in /usr/local/lib/python3.7/dist-packages (from torchtext==0.6.0) (1.15.0)\n",
            "Requirement already satisfied: certifi>=2017.4.17 in /usr/local/lib/python3.7/dist-packages (from requests->torchtext==0.6.0) (2020.12.5)\n",
            "Requirement already satisfied: urllib3!=1.25.0,!=1.25.1,<1.26,>=1.21.1 in /usr/local/lib/python3.7/dist-packages (from requests->torchtext==0.6.0) (1.24.3)\n",
            "Requirement already satisfied: idna<3,>=2.5 in /usr/local/lib/python3.7/dist-packages (from requests->torchtext==0.6.0) (2.10)\n",
            "Requirement already satisfied: chardet<4,>=3.0.2 in /usr/local/lib/python3.7/dist-packages (from requests->torchtext==0.6.0) (3.0.4)\n",
            "Requirement already satisfied: typing-extensions in /usr/local/lib/python3.7/dist-packages (from torch->torchtext==0.6.0) (3.7.4.3)\n",
            "Installing collected packages: sentencepiece, torchtext\n",
            "  Found existing installation: torchtext 0.9.1\n",
            "    Uninstalling torchtext-0.9.1:\n",
            "      Successfully uninstalled torchtext-0.9.1\n",
            "Successfully installed sentencepiece-0.1.95 torchtext-0.6.0\n"
          ],
          "name": "stdout"
        }
      ]
    },
    {
      "cell_type": "code",
      "metadata": {
        "id": "lUJrrgvgoytG"
      },
      "source": [
        "import matplotlib.pyplot as plt #plot\n",
        "import seaborn as sns #visualization\n",
        "import pandas as pd #csv and df\n",
        "\n",
        "from sklearn.metrics import accuracy_score, classification_report, confusion_matrix #metrics and reporting\n",
        "\n",
        "import torch\n",
        "from torchtext.data import Field, TabularDataset, BucketIterator, Iterator #Read csv + Batch iterator\n",
        "from torchtext import data\n",
        "\n",
        "#from transformers import RobertaTokenizer, RobertaModel, AdamW, get_linear_schedule_with_warmup #Tokenizer + Model + Adaptive LR + Schedule learning rate\n",
        "from transformers import AutoTokenizer, BertModel, AdamW, get_linear_schedule_with_warmup\n",
        "\n",
        "import warnings\n",
        "warnings.filterwarnings('ignore')\n",
        "\n",
        "import logging\n",
        "logging.getLogger(\"transformers.tokenization_utils_base\").setLevel(logging.ERROR)"
      ],
      "execution_count": null,
      "outputs": []
    },
    {
      "cell_type": "code",
      "metadata": {
        "colab": {
          "base_uri": "https://localhost:8080/"
        },
        "id": "1o4hocXOnlEI",
        "outputId": "761a6e40-477f-400a-fd1c-54b27d9fcacb"
      },
      "source": [
        "# Set random seed and set device to GPU.\n",
        "torch.manual_seed(999)\n",
        "\n",
        "if torch.cuda.is_available():\n",
        "    device = torch.device('cuda:0')\n",
        "    torch.backends.cudnn.deterministic = True\n",
        "    torch.backends.cudnn.benchmark = False\n",
        "else:\n",
        "    device = torch.device('cpu')\n",
        "\n",
        "print('We will use the GPU:', torch.cuda.get_device_name(0))"
      ],
      "execution_count": null,
      "outputs": [
        {
          "output_type": "stream",
          "text": [
            "We will use the GPU: Tesla P100-PCIE-16GB\n"
          ],
          "name": "stdout"
        }
      ]
    },
    {
      "cell_type": "code",
      "metadata": {
        "id": "THWnGwPIodGD"
      },
      "source": [
        "#Fine-tuning RoBERTa by Huggingface for Fake News classification.\n",
        "\n",
        "data_path = '/content/drive/MyDrive/Homework2/datasets'\n",
        "output_path = '/content/drive/MyDrive/Homework2/output/test2'\n",
        "checkpoint_path = '/content/drive/MyDrive/Homework2/output/checkpoint'"
      ],
      "execution_count": null,
      "outputs": []
    },
    {
      "cell_type": "code",
      "metadata": {
        "id": "cBRZWpPapM9T",
        "colab": {
          "base_uri": "https://localhost:8080/",
          "height": 114,
          "referenced_widgets": [
            "4bb64b3dfe3b4649a7617f588be8d669",
            "5ec6f35ee2174a6d9a1ff9ad78fb1cd7",
            "6854162d4891441f920432f3361b7400",
            "8f232ff058744cca802b7c62815890f2",
            "433ece2843284796a30914fd33d50269",
            "6c3c4d39675c4e4a924d2a5e6ff5650c",
            "6e39bbea02084b43b851d0151f4aed8d",
            "dcff11f812874dcba2640ae2635cfe62",
            "ca1238c4ea8146e3a2ed9a08338fab5a",
            "4655df31aa0a45b3b402ea58312383b3",
            "bbeeb60d124b40afbf41f58f99077c0f",
            "c4ee0bb743a242d08067d707cac41e8b",
            "2bddb3ab2db24e8e84c5cffc4bd30a7c",
            "d33e895df064411c82cb4420fda86456",
            "3a00a024b38c4bd08cf54716e85c6364",
            "a268b76c74394ba6a5c0766c6903a60e"
          ]
        },
        "outputId": "3b46103e-aa95-4c77-c500-4a1e24a81f3e"
      },
      "source": [
        "# Initialize tokenizer.\n",
        "#tokenizer = RobertaTokenizer.from_pretrained(\"roberta-base\") #roberta-base. Roberta-large too large for GPU\n",
        "tokenizer = AutoTokenizer.from_pretrained('allenai/scibert_scivocab_uncased') #Scibert"
      ],
      "execution_count": null,
      "outputs": [
        {
          "output_type": "display_data",
          "data": {
            "application/vnd.jupyter.widget-view+json": {
              "model_id": "4bb64b3dfe3b4649a7617f588be8d669",
              "version_minor": 0,
              "version_major": 2
            },
            "text/plain": [
              "HBox(children=(FloatProgress(value=0.0, description='Downloading', max=385.0, style=ProgressStyle(description_…"
            ]
          },
          "metadata": {
            "tags": []
          }
        },
        {
          "output_type": "stream",
          "text": [
            "\n"
          ],
          "name": "stdout"
        },
        {
          "output_type": "display_data",
          "data": {
            "application/vnd.jupyter.widget-view+json": {
              "model_id": "ca1238c4ea8146e3a2ed9a08338fab5a",
              "version_minor": 0,
              "version_major": 2
            },
            "text/plain": [
              "HBox(children=(FloatProgress(value=0.0, description='Downloading', max=227845.0, style=ProgressStyle(descripti…"
            ]
          },
          "metadata": {
            "tags": []
          }
        },
        {
          "output_type": "stream",
          "text": [
            "\n"
          ],
          "name": "stdout"
        }
      ]
    },
    {
      "cell_type": "code",
      "metadata": {
        "colab": {
          "base_uri": "https://localhost:8080/",
          "height": 296
        },
        "id": "i60V7eGpvzeY",
        "outputId": "0783c610-689b-4e01-e17e-12d167607c4b"
      },
      "source": [
        "df_train_merged = pd.read_csv('/content/drive/MyDrive/Homework2/datasets/df_train_merged.csv')\n",
        "sns.countplot(x = 'label', data=df_train_merged)\n",
        "#Missing : alculate weights of each class 1/nbrOfInstances"
      ],
      "execution_count": null,
      "outputs": [
        {
          "output_type": "execute_result",
          "data": {
            "text/plain": [
              "<matplotlib.axes._subplots.AxesSubplot at 0x7feeda5e1990>"
            ]
          },
          "metadata": {
            "tags": []
          },
          "execution_count": 6
        },
        {
          "output_type": "display_data",
          "data": {
            "image/png": "[encoded data removed]",
            "text/plain": [
              "<Figure size 432x288 with 1 Axes>"
            ]
          },
          "metadata": {
            "tags": [],
            "needs_background": "light"
          }
        }
      ]
    },
    {
      "cell_type": "code",
      "metadata": {
        "id": "7TeG91e2o9Cl"
      },
      "source": [
        "# Set tokenizer hyperparameters.\n",
        "MAX_SEQ_LEN = 300 # define max length  #300\n",
        "BATCH_SIZE = 32 #Batch size at each iteration\n",
        "PAD_INDEX = tokenizer.convert_tokens_to_ids(tokenizer.pad_token) #For PAD_index, give pad token\n",
        "UNK_INDEX = tokenizer.convert_tokens_to_ids(tokenizer.unk_token) #For Unknown_index, give UNK token\n",
        "\n",
        "# Define columns to read.\n",
        "label_field = Field(sequential=False, use_vocab=False, batch_first=True) #Columns in Label\n",
        "text_field = Field(use_vocab=False,  # Text pre-processing\n",
        "                   tokenize=tokenizer.encode,  #Tokenized(encoded)\n",
        "                   include_lengths=False,\n",
        "                   batch_first=True,\n",
        "                   fix_length=MAX_SEQ_LEN, #Length define max_sequence\n",
        "                   pad_token=PAD_INDEX, # Padding\n",
        "                   unk_token=UNK_INDEX) # Unknown words\n",
        "\n",
        "fields = {'text' : ('text', text_field), 'label' : ('label', label_field)} # define fields titletext is text_field and label is label_field\n",
        "\n",
        "#Read preprocessed CSV into TabularDataset and split it into train, test and valid.\n",
        "train_data, valid_data = TabularDataset(path=f\"{data_path}/df_train_merged.csv\",   #test_data (REMOVED) #\n",
        "                                                   format='CSV',\n",
        "                                                   fields=fields,\n",
        "                                                   skip_header=False).split(split_ratio=[0.999,0.001],  #0.90, 0.1\n",
        "                                                                            stratified=True,\n",
        "                                                                            strata_field='label')\n",
        "\n",
        "# #FOR TEST (ADDED)\n",
        "# train_data, valid_data, test_data  = TabularDataset(path=f\"{data_path}/df_train_merged.csv\",  #test_data\n",
        "#                                                    format='CSV',\n",
        "#                                                    fields=fields,\n",
        "#                                                    skip_header=False).split(split_ratio=[0.70, 0.15, 0.15],\n",
        "#                                                                             stratified=True,\n",
        "#                                                                             strata_field='label')\n",
        "# #Test iterator, no shuffling or sorting required.\n",
        "# test_iter = Iterator(test_data, batch_size=BATCH_SIZE, device=device, train=False, shuffle=False, sort=False)\n",
        "\n",
        "\n",
        "\n",
        "\n",
        "#Train data and valid data aren't used directly use Bucket/Batch iterator\n",
        "# Create train and validation iterators.\n",
        "train_iter, valid_iter = BucketIterator.splits((train_data, valid_data),  #\n",
        "                                               batch_size=BATCH_SIZE,\n",
        "                                               device=device,\n",
        "                                               shuffle=True,\n",
        "                                               sort_key=lambda x: len(x.text),\n",
        "                                               sort=False, # CHANGED : sort=True,\n",
        "                                               sort_within_batch=True)"
      ],
      "execution_count": null,
      "outputs": []
    },
    {
      "cell_type": "code",
      "metadata": {
        "id": "kptgKYyxb6ea"
      },
      "source": [
        "#kaggle test pre-processing\n",
        "test_pd = pd.read_csv('/content/drive/MyDrive/Homework2/datasets/test.csv')\n",
        "n2p_pd = pd.read_csv('/content/drive/MyDrive/Homework2/datasets/nodeid2paperid.csv')\n",
        "text_pd = pd.read_csv('/content/drive/MyDrive/Homework2/datasets/text.csv')\n",
        "\n",
        "#Join relevant data into one dataFrame\n",
        "X_test_pd = pd.merge(test_pd, n2p_pd, on='node_id')\n",
        "X_test_pd = pd.merge(X_test_pd, text_pd, on='paper_id')\n",
        "\n",
        "# Transform title and abstract into one column\n",
        "X_test_pd['text'] = X_test_pd['title'] + \". \" + X_test_pd['abstract'] #Full original length\n",
        "\n",
        "#delete irrelevant columns\n",
        "del X_test_pd['abstract']\n",
        "del X_test_pd['title']\n",
        "del X_test_pd['paper_id']\n",
        "\n",
        "X_test_pd.to_csv(f\"{data_path}/test_node_text.csv\")\n",
        ""
      ],
      "execution_count": null,
      "outputs": []
    },
    {
      "cell_type": "code",
      "metadata": {
        "id": "dkGldyLiK9ek"
      },
      "source": [
        "#kaggle test tokenizer and iterator\n",
        "# Set tokenizer hyperparameters.\n",
        "MAX_SEQ_LEN = 350 # define max length  #300\n",
        "BATCH_SIZE = 1 #One by one can we increase safely ??\n",
        "PAD_INDEX = tokenizer.convert_tokens_to_ids(tokenizer.pad_token) #For PAD_index, give pad token\n",
        "UNK_INDEX = tokenizer.convert_tokens_to_ids(tokenizer.unk_token) #For Unknown_index, give UNK token\n",
        "\n",
        "text_field = Field(use_vocab=False,  # Text pre-processing\n",
        "                   tokenize=tokenizer.encode,  #Tokenized(encoded)\n",
        "                   include_lengths=False,\n",
        "                   batch_first=True,\n",
        "                   fix_length=MAX_SEQ_LEN, #Length define max_sequence\n",
        "                   pad_token=PAD_INDEX, # Padding\n",
        "                   unk_token=UNK_INDEX) # Unknown words\n",
        "\n",
        "field = {'text' : ('text', text_field)} # define fields titletext is text_field and label is label_field\n",
        "\n",
        "test_data_kaggle = TabularDataset(path=f\"{data_path}/test_node_text.csv\",  #test_data\n",
        "                                                   format='CSV',\n",
        "                                                   fields=field,\n",
        "                                                   skip_header=False)\n",
        "\n",
        "test_iter_kaggle = Iterator(test_data_kaggle, batch_size=BATCH_SIZE, device=device, train=False, shuffle=False, sort=False)"
      ],
      "execution_count": null,
      "outputs": []
    },
    {
      "cell_type": "code",
      "metadata": {
        "id": "dgwz3F54qSpx"
      },
      "source": [
        "# Functions for saving and loading model parameters and metrics.\n",
        "def save_checkpoint(path, model, valid_loss):\n",
        "    torch.save({'model_state_dict': model.state_dict(),\n",
        "                  'valid_loss': valid_loss}, path)\n",
        "\n",
        "\n",
        "def load_checkpoint(path, model):\n",
        "    state_dict = torch.load(path, map_location=device)\n",
        "    model.load_state_dict(state_dict['model_state_dict'])\n",
        "\n",
        "    return state_dict['valid_loss']\n",
        "\n",
        "\n",
        "def save_metrics(path, train_loss_list, valid_loss_list, global_steps_list):\n",
        "    state_dict = {'train_loss_list': train_loss_list,\n",
        "                  'valid_loss_list': valid_loss_list,\n",
        "                  'global_steps_list': global_steps_list}\n",
        "\n",
        "    torch.save(state_dict, path)\n",
        "\n",
        "\n",
        "def load_metrics(path):\n",
        "    state_dict = torch.load(path, map_location=device)\n",
        "    return state_dict['train_loss_list'], state_dict['valid_loss_list'], state_dict['global_steps_list']"
      ],
      "execution_count": null,
      "outputs": []
    },
    {
      "cell_type": "code",
      "metadata": {
        "id": "q3pLlxuXv-Rl"
      },
      "source": [
        "# Model with extra layers on top of RoBERTa\n",
        "class ROBERTAClassifier(torch.nn.Module):\n",
        "    def __init__(self, dropout_rate=0.05):\n",
        "        super(ROBERTAClassifier, self).__init__()\n",
        "\n",
        "        self.roberta = BertModel.from_pretrained('allenai/scibert_scivocab_uncased', return_dict=False) # Change?   :  RobertaForSequenceClassification + add linear layers ?\n",
        "        self.d1 = torch.nn.Dropout(dropout_rate)\n",
        "        self.l1 = torch.nn.Linear(768, 96) #768 + 96 hidden neurons\n",
        "        self.bn1 = torch.nn.LayerNorm(96)\n",
        "        self.d2 = torch.nn.Dropout(dropout_rate)\n",
        "        self.l2 = torch.nn.Linear(96, 20)\n",
        "\n",
        "    def forward(self, input_ids, attention_mask):\n",
        "        _, x = self.roberta(input_ids=input_ids, attention_mask=attention_mask)\n",
        "        x = self.d1(x)\n",
        "        x = self.l1(x)\n",
        "        x = self.bn1(x)\n",
        "        x = torch.nn.Tanh()(x)\n",
        "        x = self.d2(x)\n",
        "        x = self.l2(x)\n",
        "\n",
        "        return x"
      ],
      "execution_count": null,
      "outputs": []
    },
    {
      "cell_type": "code",
      "metadata": {
        "id": "5R6RRKuRwCLw"
      },
      "source": [
        "def pretrain(model,\n",
        "             optimizer,\n",
        "             train_iter,\n",
        "             valid_iter,\n",
        "             scheduler = None,\n",
        "             valid_period = len(train_iter),\n",
        "             num_epochs = 5): #6\n",
        "\n",
        "    weights = [1, 1.2, 1, 1, 1, 1, 1, 1.2, 1, 1, 1, 1.2, 1.2, 1, 1, 1, 0.8, 1, 1, 1]\n",
        "    class_weights = torch.FloatTensor(weights).cuda()\n",
        "\n",
        "    # Pretrain linear layers, do not train bert\n",
        "    for param in model.roberta.parameters():\n",
        "        param.requires_grad = False #Roberta parameters fixed S\n",
        "\n",
        "    model.train()\n",
        "\n",
        "    # Initialize losses and loss histories\n",
        "    train_loss = 0.0\n",
        "    valid_loss = 0.0\n",
        "    global_step = 0\n",
        "\n",
        "    # Train loop\n",
        "    for epoch in range(num_epochs):\n",
        "        for (source, target), _ in train_iter:\n",
        "            mask = (source != PAD_INDEX).type(torch.uint8)\n",
        "\n",
        "            y_pred = model(input_ids=source,\n",
        "                           attention_mask=mask)\n",
        "\n",
        "            loss = torch.nn.CrossEntropyLoss(weight = class_weights)(y_pred, target) #Struggle to calculate the loss, problem here ??\n",
        "\n",
        "            loss.backward()\n",
        "\n",
        "            # Optimizer and scheduler step\n",
        "            optimizer.step()\n",
        "            scheduler.step()\n",
        "\n",
        "            optimizer.zero_grad()\n",
        "\n",
        "            # Update train loss and global step\n",
        "            train_loss += loss.item()\n",
        "            global_step += 1\n",
        "\n",
        "            # Validation loop. Save progress and evaluate model performance.\n",
        "            if global_step % valid_period == 0:\n",
        "                model.eval()\n",
        "\n",
        "                with torch.no_grad():\n",
        "                    for (source, target), _ in valid_iter:\n",
        "                        mask = (source != PAD_INDEX).type(torch.uint8)\n",
        "\n",
        "                        y_pred = model(input_ids=source,\n",
        "                                       attention_mask=mask)\n",
        "\n",
        "                        loss = torch.nn.CrossEntropyLoss(weight = class_weights)(y_pred, target)\n",
        "\n",
        "                        valid_loss += loss.item()\n",
        "\n",
        "                # Store train and validation loss history\n",
        "                train_loss = train_loss / valid_period\n",
        "                valid_loss = valid_loss / len(valid_iter)\n",
        "\n",
        "                model.train()\n",
        "\n",
        "                # print summary\n",
        "                print('Epoch [{}/{}], global step [{}/{}], PT Loss: {:.4f}, Val Loss: {:.4f}'\n",
        "                      .format(epoch+1, num_epochs, global_step, num_epochs*len(train_iter),  #problem with global_step and num_epochs*len(train_iter)\n",
        "                              train_loss, valid_loss))\n",
        "\n",
        "                train_loss = 0.0\n",
        "                valid_loss = 0.0\n",
        "\n",
        "    # Set roberta parameters back to trainable\n",
        "    for param in model.roberta.parameters():\n",
        "        param.requires_grad = True #Unfreeze RoBERTa parameters\n",
        "\n",
        "    print('Pre-training done!')"
      ],
      "execution_count": null,
      "outputs": []
    },
    {
      "cell_type": "code",
      "metadata": {
        "id": "2WAQVIQl2eYe"
      },
      "source": [
        "#No validation verification\n",
        "\n",
        "#Training function\n",
        "\n",
        "def train(model, #ROBERTA\n",
        "          optimizer, #AdamW\n",
        "          train_iter, #BucketIterator train_iter\n",
        "          valid_iter, #BucketIterator valid_iter\n",
        "          scheduler = None,\n",
        "          num_epochs = 5, #original 5\n",
        "          valid_period = len(train_iter),\n",
        "          output_path = output_path): #checkpoint_path = checkpoint_path\n",
        "\n",
        "    weights = [1, 1.2, 1, 1, 1, 1, 1, 1.2, 1, 1, 1, 1.2, 1.2, 1, 1, 1, 0.8, 1, 1, 1]\n",
        "    class_weights = torch.FloatTensor(weights).cuda()\n",
        "\n",
        "    # Initialize losses and loss histories\n",
        "    train_loss = 0.0\n",
        "    valid_loss = 0.0\n",
        "    train_loss_list = []\n",
        "    valid_loss_list = []\n",
        "    best_valid_loss = float('Inf')\n",
        "\n",
        "    global_step = 0\n",
        "    global_steps_list = []\n",
        "\n",
        "    model.train()\n",
        "\n",
        "\n",
        "    # Train loop\n",
        "    for epoch in range(num_epochs):\n",
        "        for (source, target), _ in train_iter:\n",
        "            mask = (source != PAD_INDEX).type(torch.uint8)\n",
        "\n",
        "            y_pred = model(input_ids=source,\n",
        "                           attention_mask=mask)\n",
        "\n",
        "            loss = torch.nn.CrossEntropyLoss(weight = class_weights)(y_pred, target)\n",
        "\n",
        "            loss.backward()\n",
        "\n",
        "            #torch.nn.utils.clip_grad_norm_(model.parameters(), 1)\n",
        "\n",
        "            # Optimizer and scheduler step\n",
        "            optimizer.step()\n",
        "            scheduler.step()\n",
        "\n",
        "            optimizer.zero_grad()\n",
        "\n",
        "            # Update train loss and global step\n",
        "            train_loss += loss.item()\n",
        "            global_step += 1\n",
        "\n",
        "            # Validation loop. Save progress and evaluate model performance.\n",
        "            if global_step % valid_period == 0:\n",
        "                model.eval()\n",
        "\n",
        "                with torch.no_grad():\n",
        "                    for (source, target), _ in valid_iter:\n",
        "                        mask = (source != PAD_INDEX).type(torch.uint8)\n",
        "\n",
        "                        y_pred = model(input_ids=source,\n",
        "                                       attention_mask=mask)\n",
        "                        #output = model(input_ids=source,\n",
        "                        #               labels=target,\n",
        "                        #               attention_mask=mask)\n",
        "\n",
        "                        loss = torch.nn.CrossEntropyLoss(weight = class_weights)(y_pred, target)\n",
        "                        #loss = output[0]\n",
        "\n",
        "                        valid_loss += loss.item()\n",
        "\n",
        "                # Store train and validation loss history\n",
        "                train_loss = train_loss / valid_period\n",
        "                valid_loss = valid_loss / len(valid_iter)\n",
        "                train_loss_list.append(train_loss)\n",
        "                valid_loss_list.append(valid_loss)\n",
        "                global_steps_list.append(global_step)\n",
        "\n",
        "                # print summary\n",
        "                print('Epoch [{}/{}], global step [{}/{}], Train Loss: {:.4f}, Valid Loss: {:.4f}'\n",
        "                      .format(epoch+1, num_epochs, global_step, num_epochs*len(train_iter),\n",
        "                              train_loss, valid_loss))\n",
        "\n",
        "                # torch.save({\n",
        "                #         'epoch': epoch,\n",
        "                #         'model_state_dict': model.state_dict(),\n",
        "                #         'optimizer_state_dict': optimizer.state_dict(),\n",
        "                #         'loss': train_loss_list}, checkpoint_path)\n",
        "\n",
        "\n",
        "                # # checkpoint\n",
        "                # if best_valid_loss > valid_loss:\n",
        "                #     best_valid_loss = valid_loss\n",
        "                #     save_checkpoint(output_path + '/model.pkl', model, best_valid_loss)\n",
        "                #     save_metrics(output_path + '/metric.pkl', train_loss_list, valid_loss_list, global_steps_list)\n",
        "\n",
        "\n",
        "                save_metrics(output_path + '/metric.pkl', train_loss_list, valid_loss_list, global_steps_list)\n",
        "                save_checkpoint(output_path + '/model.pkl', model, best_valid_loss)\n",
        "\n",
        "                train_loss = 0.0\n",
        "                valid_loss = 0.0\n",
        "                model.train()\n",
        "\n",
        "\n",
        "\n",
        "\n",
        "\n",
        "\n",
        "    print('Training done!')"
      ],
      "execution_count": null,
      "outputs": []
    },
    {
      "cell_type": "code",
      "metadata": {
        "id": "0FhDtBDDwOJR",
        "colab": {
          "base_uri": "https://localhost:8080/",
          "height": 385,
          "referenced_widgets": [
            "6be88aa9f3b742c5b07f4babe9aa23c8",
            "aba1b5588d244e90b7bd1012e4427e5f",
            "e8115e9579f34ff29f1f2775f8c7d456",
            "1f643dc61aa9418a8692bb3cdbe501a4",
            "2f1f4d7a9bfb4a1bb4fb190201179d67",
            "5bbb12fb8a1c4d9fb17840c824e1da67",
            "2b271ff6d7e3495cb5adacfad93dbd38",
            "901be4b996744383b871353135a9a178"
          ]
        },
        "outputId": "7fd15cfc-38f0-4c2a-b92f-7aa2a92c623a"
      },
      "source": [
        "#Shorter epochs but more training data\n",
        "NUM_EPOCHS = 7 #8\n",
        "steps_per_epoch = len(train_iter)\n",
        "\n",
        "model = ROBERTAClassifier()\n",
        "model = model.to(device)\n",
        "\n",
        "#load_checkpoint(output_path + '/model.pkl', model) # to restart previous training\n",
        "\n",
        "\n",
        "optimizer = AdamW(model.parameters(), lr=1e-4, weight_decay=0.01)\n",
        "scheduler = get_linear_schedule_with_warmup(optimizer,\n",
        "                                            num_warmup_steps=steps_per_epoch*1,\n",
        "                                            num_training_steps=steps_per_epoch*NUM_EPOCHS)\n",
        "\n",
        "print(\"======================= Start pretraining ==============================\")\n",
        "\n",
        "pretrain(model=model,\n",
        "         train_iter=train_iter,\n",
        "         valid_iter=valid_iter,\n",
        "         optimizer=optimizer,\n",
        "         scheduler=scheduler,\n",
        "         num_epochs=NUM_EPOCHS)\n",
        "\n",
        "NUM_EPOCHS = 8 #12 # crashed at epoch 4 -> not really right, change the size of bucket iterator and reset optimizer\n",
        "print(\"======================= Start training =================================\")\n",
        "optimizer = AdamW(model.parameters(), lr=2e-6, weight_decay=0.01)\n",
        "scheduler = get_linear_schedule_with_warmup(optimizer,\n",
        "                                            num_warmup_steps=steps_per_epoch*2,\n",
        "                                            num_training_steps=steps_per_epoch*NUM_EPOCHS)\n",
        "\n",
        "train(model=model,\n",
        "      train_iter=train_iter,\n",
        "      valid_iter=valid_iter,\n",
        "      optimizer=optimizer,\n",
        "      scheduler=scheduler,\n",
        "      num_epochs=NUM_EPOCHS ) #checkpoint_path = checkpoint_path"
      ],
      "execution_count": null,
      "outputs": [
        {
          "output_type": "display_data",
          "data": {
            "application/vnd.jupyter.widget-view+json": {
              "model_id": "6be88aa9f3b742c5b07f4babe9aa23c8",
              "version_minor": 0,
              "version_major": 2
            },
            "text/plain": [
              "HBox(children=(FloatProgress(value=0.0, description='Downloading', max=442221694.0, style=ProgressStyle(descri…"
            ]
          },
          "metadata": {
            "tags": []
          }
        },
        {
          "output_type": "stream",
          "text": [
            "\n",
            "======================= Start pretraining ==============================\n",
            "Epoch [1/7], global step [1874/13118], PT Loss: 1.9435, Val Loss: 1.3083\n",
            "Epoch [2/7], global step [3748/13118], PT Loss: 1.2400, Val Loss: 0.9682\n",
            "Epoch [3/7], global step [5622/13118], PT Loss: 1.0980, Val Loss: 0.9174\n",
            "Epoch [4/7], global step [7496/13118], PT Loss: 1.0469, Val Loss: 0.8719\n",
            "Epoch [5/7], global step [9370/13118], PT Loss: 1.0118, Val Loss: 0.8436\n",
            "Epoch [6/7], global step [11244/13118], PT Loss: 0.9909, Val Loss: 0.8370\n",
            "Epoch [7/7], global step [13118/13118], PT Loss: 0.9774, Val Loss: 0.8069\n",
            "Pre-training done!\n",
            "======================= Start training =================================\n",
            "Epoch [1/8], global step [1874/14992], Train Loss: 0.7444, Valid Loss: 0.5552\n",
            "Epoch [2/8], global step [3748/14992], Train Loss: 0.6011, Valid Loss: 0.4947\n",
            "Epoch [3/8], global step [5622/14992], Train Loss: 0.5318, Valid Loss: 0.4781\n",
            "Epoch [4/8], global step [7496/14992], Train Loss: 0.4851, Valid Loss: 0.4496\n",
            "Epoch [5/8], global step [9370/14992], Train Loss: 0.4514, Valid Loss: 0.4179\n",
            "Epoch [6/8], global step [11244/14992], Train Loss: 0.4287, Valid Loss: 0.4267\n",
            "Epoch [7/8], global step [13118/14992], Train Loss: 0.4097, Valid Loss: 0.4136\n",
            "Epoch [8/8], global step [14992/14992], Train Loss: 0.4000, Valid Loss: 0.4111\n",
            "Training done!\n"
          ],
          "name": "stdout"
        }
      ]
    },
    {
      "cell_type": "code",
      "metadata": {
        "colab": {
          "base_uri": "https://localhost:8080/",
          "height": 501
        },
        "id": "Ftl44CucVj_Y",
        "outputId": "2c47d12a-471f-43d3-ee7a-896864207104"
      },
      "source": [
        "#Finish training - Ploting Training and Validation loss\n",
        "#Epoch : Full cycle through training data\n",
        "#Step : One gradient update (relative to batching/bucket)\n",
        "\n",
        "plt.figure(figsize=(10, 8))\n",
        "train_loss_list, valid_loss_list, global_steps_list = load_metrics(output_path + '/metric.pkl')\n",
        "plt.plot(global_steps_list, train_loss_list, label='Train')\n",
        "plt.plot(global_steps_list, valid_loss_list, label='Valid')\n",
        "plt.xlabel('Global Steps', fontsize=14)\n",
        "plt.ylabel('Loss', fontsize=14)\n",
        "plt.legend(fontsize=14)\n",
        "plt.show()\n"
      ],
      "execution_count": null,
      "outputs": [
        {
          "output_type": "display_data",
          "data": {
            "image/png": "[encoded data removed]",
            "text/plain": [
              "<Figure size 720x576 with 1 Axes>"
            ]
          },
          "metadata": {
            "tags": [],
            "needs_background": "light"
          }
        }
      ]
    },
    {
      "cell_type": "code",
      "metadata": {
        "id": "NdqeczMOWDoa"
      },
      "source": [
        "# Evaluation Function\n",
        "#Was test dataset processed correctly ?\n",
        "\n",
        "def evaluate(model, test_loader):\n",
        "    y_pred = []\n",
        "    y_true = []\n",
        "\n",
        "    model.eval()\n",
        "    with torch.no_grad():\n",
        "        for (source, target), _ in test_loader:\n",
        "                mask = (source != PAD_INDEX).type(torch.uint8)\n",
        "\n",
        "                output = model(source, attention_mask=mask)\n",
        "\n",
        "                y_pred.extend(torch.argmax(output, axis=-1).tolist())\n",
        "                y_true.extend(target.tolist())\n",
        "\n",
        "    print('Classification Report:')\n",
        "    print(classification_report(y_true, y_pred, labels=[0,1,2,3,4,5,6,7,8,9,10,11,12,13,14,15,16,17,18,19], digits=4))\n",
        "\n",
        "    cm = confusion_matrix(y_true, y_pred, labels=[0,1,2,3,4,5,6,7,8,9,10,11,12,13,14,15,16,17,18,19])\n",
        "    ax = plt.subplot()\n",
        "\n",
        "    sns.heatmap(cm, annot=True, ax = ax, cmap='Blues', fmt=\"d\")\n",
        "\n",
        "    ax.set_title('Confusion Matrix')\n",
        "\n",
        "    ax.set_xlabel('Predicted Labels')\n",
        "    ax.set_ylabel('True Labels')\n",
        "\n",
        "    ax.xaxis.set_ticklabels(['0','1','2','3','4','5','6','7','8','9','10','11','12','13','14','15','16','17','18','19'])\n",
        "    ax.yaxis.set_ticklabels(['0','1','2','3','4','5','6','7','8','9','10','11','12','13','14','15','16','17','18','19'])"
      ],
      "execution_count": null,
      "outputs": []
    },
    {
      "cell_type": "code",
      "metadata": {
        "colab": {
          "base_uri": "https://localhost:8080/",
          "height": 766
        },
        "id": "3B_m2bDV7kz4",
        "outputId": "ac51df59-dfab-483d-ebfe-085f9f9ca04f"
      },
      "source": [
        "model = ROBERTAClassifier()\n",
        "model = model.to(device)\n",
        "\n",
        "load_checkpoint(output_path + '/model.pkl', model)\n",
        "\n",
        "evaluate(model, test_iter)"
      ],
      "execution_count": null,
      "outputs": [
        {
          "output_type": "stream",
          "text": [
            "Classification Report:\n",
            "              precision    recall  f1-score   support\n",
            "\n",
            "           0     0.8070    0.6765    0.7360        68\n",
            "           1     0.6875    0.6548    0.6707        84\n",
            "           2     0.9222    0.9377    0.9299       594\n",
            "           3     0.8130    0.7968    0.8048       251\n",
            "           4     0.8934    0.9444    0.9182       719\n",
            "           5     0.9130    0.8750    0.8936       600\n",
            "           6     0.7970    0.8214    0.8090       196\n",
            "           7     0.8649    0.4638    0.6038        69\n",
            "           8     0.9206    0.9461    0.9332       760\n",
            "           9     0.9583    0.9280    0.9429       347\n",
            "          10     0.8771    0.8862    0.8816       958\n",
            "          11     0.7015    0.5054    0.5875        93\n",
            "          12     0.0000    0.0000    0.0000         3\n",
            "          13     0.7708    0.7973    0.7838       291\n",
            "          14     0.8630    0.8514    0.8571        74\n",
            "          15     0.7551    0.7400    0.7475        50\n",
            "          16     0.9739    0.9748    0.9744      3333\n",
            "          17     0.8409    0.5606    0.6727        66\n",
            "          18     0.8202    0.8202    0.8202        89\n",
            "          19     0.8418    0.9375    0.8871       352\n",
            "\n",
            "    accuracy                         0.9129      8997\n",
            "   macro avg     0.8011    0.7559    0.7727      8997\n",
            "weighted avg     0.9120    0.9129    0.9113      8997\n",
            "\n"
          ],
          "name": "stdout"
        },
        {
          "output_type": "display_data",
          "data": {
            "image/png": "[encoded data removed]",
            "text/plain": [
              "<Figure size 432x288 with 2 Axes>"
            ]
          },
          "metadata": {
            "tags": [],
            "needs_background": "light"
          }
        }
      ]
    },
    {
      "cell_type": "code",
      "metadata": {
        "id": "xKe6oGFKI_cf"
      },
      "source": [
        "# Evaluation Function\n",
        "#Was test dataset processed correctly ?\n",
        "\n",
        "def evaluateKaggle(model, test_loader):\n",
        "    y_pred = []\n",
        "    #y_true = []\n",
        "\n",
        "    model.eval()\n",
        "    with torch.no_grad():\n",
        "        for (source), _ in test_loader: # ,target)\n",
        "                mask = (source != PAD_INDEX).type(torch.uint8)\n",
        "\n",
        "                output = model(source, attention_mask=mask)\n",
        "\n",
        "                y_pred.extend(torch.argmax(output, axis=-1).tolist())\n",
        "                #y_true.extend(target.tolist())\n",
        "    return y_pred\n",
        "\n",
        "    # print('Classification Report:')\n",
        "    # print(classification_report(y_true, y_pred, labels=[0,1,2,3,4,5,6,7,8,9,10,11,12,13,14,15,16,17,18,19], digits=4))\n",
        "\n",
        "    # cm = confusion_matrix(y_true, y_pred, labels=[0,1,2,3,4,5,6,7,8,9,10,11,12,13,14,15,16,17,18,19])\n",
        "    # ax = plt.subplot()\n",
        "\n",
        "    # sns.heatmap(cm, annot=True, ax = ax, cmap='Blues', fmt=\"d\")\n",
        "\n",
        "    # ax.set_title('Confusion Matrix')\n",
        "\n",
        "    # ax.set_xlabel('Predicted Labels')\n",
        "    # ax.set_ylabel('True Labels')\n",
        "\n",
        "    # ax.xaxis.set_ticklabels(['0','1','2','3','4','5','6','7','8','9','10','11','12','13','14','15','16','17','18','19'])\n",
        "    # ax.yaxis.set_ticklabels(['0','1','2','3','4','5','6','7','8','9','10','11','12','13','14','15','16','17','18','19'])"
      ],
      "execution_count": null,
      "outputs": []
    },
    {
      "cell_type": "code",
      "metadata": {
        "id": "GrzVvkMfKvXs"
      },
      "source": [
        "model = ROBERTAClassifier()\n",
        "model = model.to(device)\n",
        "\n",
        "load_checkpoint(output_path + '/model.pkl', model)\n",
        "\n",
        "predictions = evaluateKaggle(model, test_iter_kaggle)"
      ],
      "execution_count": null,
      "outputs": []
    },
    {
      "cell_type": "code",
      "metadata": {
        "id": "PdV_3JeUd_4v"
      },
      "source": [
        "test_node_text = pd.read_csv('/content/drive/MyDrive/Homework2/datasets/test_node_text.csv')\n",
        "label = pd.Series(predictions)\n",
        "test_node_text['label'] = label\n",
        "\n",
        "#delete irrelevant columns\n",
        "del test_node_text['Unnamed: 0']\n",
        "del test_node_text['text']\n",
        "\n",
        "#rename\n",
        "test_node_text.rename(columns={'node_id': 'id', 'label': 'label'}, inplace=True)\n",
        "\n",
        "#save results\n",
        "test_node_text.to_csv(f\"{output_path}/kaggle_predictions_SciBert2.csv\", index=False)"
      ],
      "execution_count": null,
      "outputs": []
    },
    {
      "cell_type": "code",
      "metadata": {
        "colab": {
          "base_uri": "https://localhost:8080/",
          "height": 501
        },
        "id": "hmDdDNezg9XV",
        "outputId": "21dc541a-2da5-449c-920f-50f76ba743e2"
      },
      "source": [
        "#Finish training - Ploting Training and Validation loss\n",
        "#Epoch : Full cycle through training data\n",
        "#Step : One gradient update (relative to batching/bucket)\n",
        "\n",
        "plt.figure(figsize=(10, 8))\n",
        "train_loss_list, valid_loss_list, global_steps_list = load_metrics(old_output_path + '/metric.pkl')\n",
        "plt.plot(global_steps_list, train_loss_list, label='Train')\n",
        "plt.plot(global_steps_list, valid_loss_list, label='Valid')\n",
        "plt.xlabel('Global Steps', fontsize=14)\n",
        "plt.ylabel('Loss', fontsize=14)\n",
        "plt.legend(fontsize=14)\n",
        "plt.show()\n"
      ],
      "execution_count": null,
      "outputs": [
        {
          "output_type": "display_data",
          "data": {
            "image/png": "[encoded data removed]",
            "text/plain": [
              "<Figure size 720x576 with 1 Axes>"
            ]
          },
          "metadata": {
            "tags": [],
            "needs_background": "light"
          }
        }
      ]
    },
    {
      "cell_type": "code",
      "metadata": {
        "colab": {
          "base_uri": "https://localhost:8080/",
          "height": 863,
          "referenced_widgets": [
            "2e8a1dd705094877a0f87e1972833616",
            "4aa153b52f764717a34f2a5e3651445c",
            "aece04912e1c40f29686309e0365ed83",
            "a0ebaa9401d642459e6cd4e304c58175",
            "06ec30d990dc48938bd4a40e5e42a12e",
            "be3d8a6ceb654edd83b0e8d36b4513d6",
            "688ccb6153474841aa31977fcf3077e5",
            "786da13e0ea14576b31ec09008518dac",
            "04a7a03a2e0e49aaa152407b5057c4e0",
            "aca79c59ccea49aaa74813b652f61e6a",
            "422caa78cf40462a80c11f88024e3bad",
            "14a843b5aaec4dd2b36d47d709008dd8",
            "2ab7d8e98c924af7bf1a09b95397afad",
            "e1be6d13689b4dc08866b11e68164a30",
            "6a1d82be61604006b7823d710bb37fdb",
            "5fbdf5fce6404443aede7e59d7ccafb1"
          ]
        },
        "id": "GYs2Yt9FfeL-",
        "outputId": "f78fc907-81de-4975-fe74-1f0e7c1bc955"
      },
      "source": [
        "#Print old model\n",
        "\n",
        "old_output_path = '/content/drive/MyDrive/Homework2/output/'\n",
        "\n",
        "model = ROBERTAClassifier()\n",
        "model = model.to(device)\n",
        "\n",
        "load_checkpoint(old_output_path + '/model.pkl', model) # to restart previous training\n",
        "\n",
        "evaluate(model, test_iter)\n"
      ],
      "execution_count": null,
      "outputs": [
        {
          "output_type": "display_data",
          "data": {
            "application/vnd.jupyter.widget-view+json": {
              "model_id": "2e8a1dd705094877a0f87e1972833616",
              "version_minor": 0,
              "version_major": 2
            },
            "text/plain": [
              "HBox(children=(FloatProgress(value=0.0, description='Downloading', max=481.0, style=ProgressStyle(description_…"
            ]
          },
          "metadata": {
            "tags": []
          }
        },
        {
          "output_type": "stream",
          "text": [
            "\n"
          ],
          "name": "stdout"
        },
        {
          "output_type": "display_data",
          "data": {
            "application/vnd.jupyter.widget-view+json": {
              "model_id": "04a7a03a2e0e49aaa152407b5057c4e0",
              "version_minor": 0,
              "version_major": 2
            },
            "text/plain": [
              "HBox(children=(FloatProgress(value=0.0, description='Downloading', max=501200538.0, style=ProgressStyle(descri…"
            ]
          },
          "metadata": {
            "tags": []
          }
        },
        {
          "output_type": "stream",
          "text": [
            "\n",
            "Classification Report:\n",
            "              precision    recall  f1-score   support\n",
            "\n",
            "           0     0.7949    0.4559    0.5794        68\n",
            "           1     0.0000    0.0000    0.0000        84\n",
            "           2     0.8320    0.8586    0.8451       594\n",
            "           3     0.6523    0.6653    0.6588       251\n",
            "           4     0.8434    0.9360    0.8873       719\n",
            "           5     0.8420    0.8617    0.8517       600\n",
            "           6     0.7013    0.5510    0.6171       196\n",
            "           7     0.0000    0.0000    0.0000        69\n",
            "           8     0.8794    0.9211    0.8997       760\n",
            "           9     0.8450    0.8329    0.8389       347\n",
            "          10     0.7855    0.8257    0.8051       958\n",
            "          11     0.0000    0.0000    0.0000        93\n",
            "          12     0.0000    0.0000    0.0000         3\n",
            "          13     0.7315    0.6460    0.6861       291\n",
            "          14     0.8036    0.6081    0.6923        74\n",
            "          15     1.0000    0.3400    0.5075        50\n",
            "          16     0.9340    0.9886    0.9605      3333\n",
            "          17     0.7500    0.1364    0.2308        66\n",
            "          18     0.6667    0.6742    0.6704        89\n",
            "          19     0.7692    0.8807    0.8212       352\n",
            "\n",
            "    accuracy                         0.8570      8997\n",
            "   macro avg     0.6415    0.5591    0.5776      8997\n",
            "weighted avg     0.8325    0.8570    0.8408      8997\n",
            "\n"
          ],
          "name": "stdout"
        },
        {
          "output_type": "display_data",
          "data": {
            "image/png": "[encoded data removed]",
            "text/plain": [
              "<Figure size 432x288 with 2 Axes>"
            ]
          },
          "metadata": {
            "tags": [],
            "needs_background": "light"
          }
        }
      ]
    },
    {
      "cell_type": "code",
      "metadata": {
        "id": "u537geu619Xe"
      },
      "source": [],
      "execution_count": null,
      "outputs": []
    },
    {
      "cell_type": "code",
      "metadata": {
        "id": "DEQSlJXC2aqp"
      },
      "source": [],
      "execution_count": null,
      "outputs": []
    },
    {
      "cell_type": "code",
      "metadata": {
        "id": "tQQkLdP4239Z"
      },
      "source": [],
      "execution_count": null,
      "outputs": []
    },
    {
      "cell_type": "code",
      "metadata": {
        "id": "ffScqe9w3VQe"
      },
      "source": [],
      "execution_count": null,
      "outputs": []
    },
    {
      "cell_type": "code",
      "metadata": {
        "id": "_SgGbEZE3yjb"
      },
      "source": [],
      "execution_count": null,
      "outputs": []
    },
    {
      "cell_type": "code",
      "metadata": {
        "id": "JvF79fnR4P2a"
      },
      "source": [],
      "execution_count": null,
      "outputs": []
    },
    {
      "cell_type": "code",
      "metadata": {
        "id": "T8-cHeFv4tJZ"
      },
      "source": [],
      "execution_count": null,
      "outputs": []
    },
    {
      "cell_type": "code",
      "metadata": {
        "id": "iqUSnbZy5Kca"
      },
      "source": [],
      "execution_count": null,
      "outputs": []
    },
    {
      "cell_type": "code",
      "metadata": {
        "id": "DLCDZnP-5nva"
      },
      "source": [],
      "execution_count": null,
      "outputs": []
    },
    {
      "cell_type": "code",
      "metadata": {
        "id": "yOGTUh1U6FCa"
      },
      "source": [],
      "execution_count": null,
      "outputs": []
    },
    {
      "cell_type": "code",
      "metadata": {
        "id": "DvND3OFa6iVZ"
      },
      "source": [],
      "execution_count": null,
      "outputs": []
    },
    {
      "cell_type": "code",
      "metadata": {
        "id": "wfvLPgYX6_oc"
      },
      "source": [],
      "execution_count": null,
      "outputs": []
    },
    {
      "cell_type": "code",
      "metadata": {
        "id": "ju4Xgr1S7c7a"
      },
      "source": [],
      "execution_count": null,
      "outputs": []
    },
    {
      "cell_type": "code",
      "metadata": {
        "id": "AkGtXxi676OY"
      },
      "source": [],
      "execution_count": null,
      "outputs": []
    },
    {
      "cell_type": "code",
      "metadata": {
        "id": "-BatUE8N8XhZ"
      },
      "source": [],
      "execution_count": null,
      "outputs": []
    },
    {
      "cell_type": "code",
      "metadata": {
        "id": "nnBD9uGQ800a"
      },
      "source": [],
      "execution_count": null,
      "outputs": []
    },
    {
      "cell_type": "code",
      "metadata": {
        "id": "g501qoZA9SHa"
      },
      "source": [],
      "execution_count": null,
      "outputs": []
    },
    {
      "cell_type": "code",
      "metadata": {
        "id": "TaVNHhix9vaa"
      },
      "source": [],
      "execution_count": null,
      "outputs": []
    },
    {
      "cell_type": "code",
      "metadata": {
        "id": "fJjO2TNB-Mta"
      },
      "source": [],
      "execution_count": null,
      "outputs": []
    },
    {
      "cell_type": "code",
      "metadata": {
        "id": "ATHcf_lZ-qAd"
      },
      "source": [],
      "execution_count": null,
      "outputs": []
    },
    {
      "cell_type": "code",
      "metadata": {
        "id": "68AnnEic_HTZ"
      },
      "source": [],
      "execution_count": null,
      "outputs": []
    },
    {
      "cell_type": "code",
      "metadata": {
        "id": "Os_PRptv_kma"
      },
      "source": [],
      "execution_count": null,
      "outputs": []
    },
    {
      "cell_type": "code",
      "metadata": {
        "id": "0MNPvzaJAB5d"
      },
      "source": [],
      "execution_count": null,
      "outputs": []
    },
    {
      "cell_type": "code",
      "metadata": {
        "id": "PJnOv3s1AfMa"
      },
      "source": [],
      "execution_count": null,
      "outputs": []
    },
    {
      "cell_type": "code",
      "metadata": {
        "id": "UUCLfN_NA8fa"
      },
      "source": [],
      "execution_count": null,
      "outputs": []
    },
    {
      "cell_type": "code",
      "metadata": {
        "id": "CNawgB6KBZya"
      },
      "source": [],
      "execution_count": null,
      "outputs": []
    },
    {
      "cell_type": "code",
      "metadata": {
        "id": "GQl98KIRB3Fa"
      },
      "source": [],
      "execution_count": null,
      "outputs": []
    },
    {
      "cell_type": "code",
      "metadata": {
        "id": "0QXVhdoNCUYa"
      },
      "source": [],
      "execution_count": null,
      "outputs": []
    },
    {
      "cell_type": "code",
      "metadata": {
        "id": "DjGCJou_Cxra"
      },
      "source": [],
      "execution_count": null,
      "outputs": []
    },
    {
      "cell_type": "code",
      "metadata": {
        "id": "rcrlAlASDO-b"
      },
      "source": [],
      "execution_count": null,
      "outputs": []
    },
    {
      "cell_type": "code",
      "metadata": {
        "id": "XHiv73_VDsRb"
      },
      "source": [],
      "execution_count": null,
      "outputs": []
    },
    {
      "cell_type": "code",
      "metadata": {
        "id": "r6ayTXVHEJkZ"
      },
      "source": [],
      "execution_count": null,
      "outputs": []
    },
    {
      "cell_type": "code",
      "metadata": {
        "id": "xTyDQ23xEm3Z"
      },
      "source": [],
      "execution_count": null,
      "outputs": []
    },
    {
      "cell_type": "code",
      "metadata": {
        "id": "sLdbwGFQFEKf"
      },
      "source": [],
      "execution_count": null,
      "outputs": []
    },
    {
      "cell_type": "code",
      "metadata": {
        "id": "RSeNuefZFhdZ"
      },
      "source": [],
      "execution_count": null,
      "outputs": []
    }
  ]
}